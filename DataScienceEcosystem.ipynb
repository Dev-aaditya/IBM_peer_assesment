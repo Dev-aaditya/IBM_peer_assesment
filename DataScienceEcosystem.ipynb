{
 "cells": [
  {
   "cell_type": "markdown",
   "id": "b6012a1a-ad97-467f-bdc8-b9734feca03d",
   "metadata": {},
   "source": [
    "### Data science tools and Ecosystem"
   ]
  },
  {
   "cell_type": "markdown",
   "id": "b476369b-a828-4c88-918a-03fccada6974",
   "metadata": {},
   "source": [
    "In this notebook Data science tools are summarized"
   ]
  },
  {
   "cell_type": "markdown",
   "id": "66c1b777-4b4c-4638-8e7d-53fdefb82d8e",
   "metadata": {},
   "source": [
    "__OBJECTIVE__\n",
    "* list popular languages for data science.\n",
    "* list popular libraries for data science.\n",
    "* list of well known data science tools.\n",
    "* how to provide comments in the cell.\n",
    "\n"
   ]
  },
  {
   "cell_type": "markdown",
   "id": "18bd5a25-2543-4a04-99b8-c32e3a5426db",
   "metadata": {},
   "source": [
    "Some of the popular languages that Data Scientists use are:\n",
    "\n",
    "1.Python.\\\n",
    "2.R.\\\n",
    "3.SQL.\\\n",
    "4.Java.\\\n",
    "5.Julia."
   ]
  },
  {
   "cell_type": "markdown",
   "id": "4f313cec-120a-4aa3-8eeb-3d597954d6c1",
   "metadata": {},
   "source": [
    "Some of the commonly used libraries used by Data Scientists include:\n",
    "\n",
    "1.TensorFlow.\\\n",
    "2.NumPy.\\\n",
    "3.SciPy.\\\n",
    "4.Pandas.\\\n",
    "5.Matplotlib.\\\n",
    "6.Keras.\\\n",
    "7.SciKit-Learn.\\\n",
    "8.PyTorch."
   ]
  },
  {
   "cell_type": "markdown",
   "id": "7b2977d4-9422-4f70-850c-de01c91a5ebf",
   "metadata": {},
   "source": [
    "|Data Science Tools|\n",
    "|---|\n",
    "|SAS.|\t\t\n",
    "|Apache Spark|\t\t\n",
    "|BigML|"
   ]
  },
  {
   "cell_type": "markdown",
   "id": "5d5eea38-3188-4aca-9c82-3d39bf2edbd9",
   "metadata": {},
   "source": [
    "### Below are a few examples of evaluating arithmetic expressions in Python"
   ]
  },
  {
   "cell_type": "code",
   "execution_count": null,
   "id": "1ab4680b-68b4-4e5c-8d64-f27870258635",
   "metadata": {},
   "outputs": [],
   "source": [
    "code = compile(\"5 + 4\", \"<string>\", \"eval\")\n",
    "eval(code)\n",
    "# Result: 9"
   ]
  },
  {
   "cell_type": "code",
   "execution_count": null,
   "id": "e86e16bc-ecab-4c92-9256-9e9219af0e1b",
   "metadata": {},
   "outputs": [],
   "source": [
    "code1 = compile(\"(5 + 7) * 2\", \"<string>\", \"eval\")\n",
    "eval(code1)\n",
    "# Result: 24"
   ]
  },
  {
   "cell_type": "code",
   "execution_count": null,
   "id": "ee1d051d-c1ca-4638-af59-7c1140395092",
   "metadata": {},
   "outputs": [],
   "source": [
    "import math\n",
    "# Volume of a sphere\n",
    "code2 = compile(\"4 / 3 * math.pi * math.pow(25, 3)\", \"<string>\", \"eval\")\n",
    "eval(code2)\n",
    "# Result: 65449.84694978735"
   ]
  },
  {
   "cell_type": "code",
   "execution_count": null,
   "id": "a9a0f2a0-05c3-4681-b6e7-e24f1a3aaeb0",
   "metadata": {},
   "outputs": [],
   "source": [
    "(3*4)+5\n",
    "# Result: 17"
   ]
  },
  {
   "cell_type": "code",
   "execution_count": null,
   "id": "659541f4-864a-42ad-b07b-d97a76985200",
   "metadata": {},
   "outputs": [],
   "source": [
    "days = 0\n",
    "hours = 0\n",
    "mins = 0\n",
    "\n",
    "time = 200\n",
    "#days = time / 1440\n",
    "leftover_minutes = time % 1440\n",
    "hours = leftover_minutes / 60\n",
    "#mins = time - (days*1440) - (hours*60)\n",
    "print(str(days) + \" days, \" + str(hours) + \" hours, \" + str(mins) +  \" mins. \")\n",
    "\n",
    "# Result: 3.3333333333333335 hours"
   ]
  },
  {
   "cell_type": "markdown",
   "id": "f54c6ea0-832a-42e2-bd2c-f4d97e853c63",
   "metadata": {},
   "source": [
    "### Author:\n",
    "Germano Costa"
   ]
  }
 ],
 "metadata": {
  "kernelspec": {
   "display_name": "Python 3 (ipykernel)",
   "language": "python",
   "name": "python3"
  },
  "language_info": {
   "codemirror_mode": {
    "name": "ipython",
    "version": 3
   },
   "file_extension": ".py",
   "mimetype": "text/x-python",
   "name": "python",
   "nbconvert_exporter": "python",
   "pygments_lexer": "ipython3",
   "version": "3.13.2"
  }
 },
 "nbformat": 4,
 "nbformat_minor": 5
}
